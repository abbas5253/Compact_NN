{
 "cells": [
  {
   "cell_type": "code",
   "execution_count": 1,
   "metadata": {},
   "outputs": [],
   "source": [
    "from impl_of_func import *\n",
    "import tensorflow as tf\n",
    "\n",
    "NN = NeuralNet([None,784],[None,10],9)\n"
   ]
  },
  {
   "cell_type": "code",
   "execution_count": 2,
   "metadata": {},
   "outputs": [
    {
     "data": {
      "application/vnd.jupyter.widget-view+json": {
       "model_id": "26ce1dbf6f5f4ead86fb41ce27efe357",
       "version_major": 2,
       "version_minor": 0
      },
      "text/plain": [
       "Text(value='', description='Layer Type')"
      ]
     },
     "metadata": {},
     "output_type": "display_data"
    }
   ],
   "source": [
    "NN.input_layer_type()"
   ]
  },
  {
   "cell_type": "code",
   "execution_count": 3,
   "metadata": {},
   "outputs": [],
   "source": [
    "NN.set_input_layer()"
   ]
  },
  {
   "cell_type": "code",
   "execution_count": 4,
   "metadata": {},
   "outputs": [
    {
     "data": {
      "text/plain": [
       "['CNN', 'IN']"
      ]
     },
     "execution_count": 4,
     "metadata": {},
     "output_type": "execute_result"
    }
   ],
   "source": [
    "NN.layer_type"
   ]
  },
  {
   "cell_type": "code",
   "execution_count": 5,
   "metadata": {},
   "outputs": [
    {
     "data": {
      "application/vnd.jupyter.widget-view+json": {
       "model_id": "6b4ab143746247658082dfc5e95b514d",
       "version_major": 2,
       "version_minor": 0
      },
      "text/plain": [
       "Text(value='', description='filter1')"
      ]
     },
     "metadata": {},
     "output_type": "display_data"
    },
    {
     "data": {
      "application/vnd.jupyter.widget-view+json": {
       "model_id": "a8f24fe83c224d48baf6b74a85de99e3",
       "version_major": 2,
       "version_minor": 0
      },
      "text/plain": [
       "Text(value='', description='Strd1')"
      ]
     },
     "metadata": {},
     "output_type": "display_data"
    },
    {
     "data": {
      "application/vnd.jupyter.widget-view+json": {
       "model_id": "59e464a1f7fe44c39c4f2f0648fbf3fd",
       "version_major": 2,
       "version_minor": 0
      },
      "text/plain": [
       "Text(value='', description='Padding1')"
      ]
     },
     "metadata": {},
     "output_type": "display_data"
    },
    {
     "data": {
      "application/vnd.jupyter.widget-view+json": {
       "model_id": "e6d448ec094c43d6a0f700afb090214f",
       "version_major": 2,
       "version_minor": 0
      },
      "text/plain": [
       "Text(value='', description='incep_layer_type for incep2')"
      ]
     },
     "metadata": {},
     "output_type": "display_data"
    }
   ],
   "source": [
    "NN.input_layer_feilds()"
   ]
  },
  {
   "cell_type": "markdown",
   "metadata": {},
   "source": [
    "NN.set_input_layer_feilds()"
   ]
  },
  {
   "cell_type": "code",
   "execution_count": 6,
   "metadata": {},
   "outputs": [
    {
     "name": "stdout",
     "output_type": "stream",
     "text": [
      "filter for layer inceptions CNN 5,5,64,128\n",
      "Strides for layer inceptions CNN2,2\n",
      "Padding for layer inceptions CNNSAME\n",
      "filter for layer inceptionsPOOL-CNN 2,2\n",
      "Strides for layer inceptionsPOOL-CNN 2,2\n",
      "Padding for layer inceptionsPOOL-CNN SAME\n",
      "filter for layer inceptionsPOOL-CNN 5,5,128,200\n",
      "Strides for layer inceptionsPOOL-CNN 1,1\n",
      "Padding for layer inceptionsPOOL-CNN SAME\n"
     ]
    }
   ],
   "source": [
    "NN.set_input_layer_feilds()"
   ]
  },
  {
   "cell_type": "code",
   "execution_count": 7,
   "metadata": {},
   "outputs": [],
   "source": [
    "m = NN.layer_feilds"
   ]
  },
  {
   "cell_type": "code",
   "execution_count": 17,
   "metadata": {},
   "outputs": [
    {
     "data": {
      "text/plain": [
       "[[2, 2], [2, 2], 'SAME', [5, 5, 128, 200], [1, 1], 'SAME']"
      ]
     },
     "execution_count": 17,
     "metadata": {},
     "output_type": "execute_result"
    }
   ],
   "source": []
  },
  {
   "cell_type": "code",
   "execution_count": 22,
   "metadata": {},
   "outputs": [],
   "source": [
    "layer_fields=[[[5,5,1,32],[1,1],'SAME'],[[2,2],[2,2],'SAME'],[[5,5,32,64],[1,1],'SAME'],[[2,2],[2,2],'SAME'],[512],[10]]"
   ]
  },
  {
   "cell_type": "markdown",
   "metadata": {},
   "source": [
    "m"
   ]
  },
  {
   "cell_type": "code",
   "execution_count": 19,
   "metadata": {},
   "outputs": [],
   "source": [
    "m[2][0] = int(m[2][0])"
   ]
  },
  {
   "cell_type": "code",
   "execution_count": 14,
   "metadata": {},
   "outputs": [
    {
     "data": {
      "text/plain": [
       "[512]"
      ]
     },
     "execution_count": 14,
     "metadata": {},
     "output_type": "execute_result"
    }
   ],
   "source": [
    "m"
   ]
  },
  {
   "cell_type": "code",
   "execution_count": null,
   "metadata": {},
   "outputs": [],
   "source": []
  },
  {
   "cell_type": "code",
   "execution_count": 20,
   "metadata": {},
   "outputs": [
    {
     "data": {
      "text/plain": [
       "[[[5, 5, 1, 64], [2, 2], 'SANE'], [[2, 2], [2, 2], 'SAME'], [512]]"
      ]
     },
     "execution_count": 20,
     "metadata": {},
     "output_type": "execute_result"
    }
   ],
   "source": [
    "m"
   ]
  },
  {
   "cell_type": "code",
   "execution_count": null,
   "metadata": {},
   "outputs": [],
   "source": [
    "from __future__ import print_function\n",
    "from ipywidgets import interact, interactive, fixed, interact_manual\n",
    "import ipywidgets as widgets"
   ]
  },
  {
   "cell_type": "code",
   "execution_count": null,
   "metadata": {},
   "outputs": [],
   "source": [
    "def f(x):\n",
    "    return x"
   ]
  },
  {
   "cell_type": "code",
   "execution_count": null,
   "metadata": {},
   "outputs": [],
   "source": [
    "def input_param():\n",
    "    hidden_layers = wg.IntSlider(description='hidden_layers')"
   ]
  },
  {
   "cell_type": "code",
   "execution_count": null,
   "metadata": {},
   "outputs": [],
   "source": [
    "input_param()"
   ]
  },
  {
   "cell_type": "code",
   "execution_count": 7,
   "metadata": {},
   "outputs": [],
   "source": [
    "m = '53 '"
   ]
  },
  {
   "cell_type": "code",
   "execution_count": 13,
   "metadata": {},
   "outputs": [],
   "source": [
    "l = type('2')"
   ]
  },
  {
   "cell_type": "code",
   "execution_count": 14,
   "metadata": {},
   "outputs": [],
   "source": [
    "k = l"
   ]
  },
  {
   "cell_type": "code",
   "execution_count": 16,
   "metadata": {},
   "outputs": [
    {
     "data": {
      "text/plain": [
       "str"
      ]
     },
     "execution_count": 16,
     "metadata": {},
     "output_type": "execute_result"
    }
   ],
   "source": [
    "k"
   ]
  },
  {
   "cell_type": "code",
   "execution_count": 17,
   "metadata": {},
   "outputs": [],
   "source": [
    "l = [[1,1],['1',2],[3,3],[4,'2']]"
   ]
  },
  {
   "cell_type": "code",
   "execution_count": 20,
   "metadata": {},
   "outputs": [
    {
     "ename": "SyntaxError",
     "evalue": "invalid syntax (<ipython-input-20-53590d9abc85>, line 1)",
     "output_type": "error",
     "traceback": [
      "\u001b[0;36m  File \u001b[0;32m\"<ipython-input-20-53590d9abc85>\"\u001b[0;36m, line \u001b[0;32m1\u001b[0m\n\u001b[0;31m    l= [[if type(l[i][j]) == type('') int(l[i][j]) for j in range(len(m))] for i in range(len(l))]\u001b[0m\n\u001b[0m          ^\u001b[0m\n\u001b[0;31mSyntaxError\u001b[0m\u001b[0;31m:\u001b[0m invalid syntax\n"
     ]
    }
   ],
   "source": [
    "l= [[if type(l[i][j]) == type('') int(l[i][j]) for j in range(len(m))] for i in range(len(l))]"
   ]
  },
  {
   "cell_type": "code",
   "execution_count": 8,
   "metadata": {},
   "outputs": [
    {
     "data": {
      "text/plain": [
       "[(0, 23), (1, 23), (2, 54), (3, 65), (4, 67)]"
      ]
     },
     "execution_count": 8,
     "metadata": {},
     "output_type": "execute_result"
    }
   ],
   "source": [
    "l = [23,23,54,65,67]\n",
    "list(enumerate(l))"
   ]
  },
  {
   "cell_type": "code",
   "execution_count": 9,
   "metadata": {},
   "outputs": [
    {
     "data": {
      "text/plain": [
       "[[5, 5, 32], [1, 1], 'SAME', [1, 1, 32], [1, 1], 'SAME']"
      ]
     },
     "execution_count": 9,
     "metadata": {},
     "output_type": "execute_result"
    }
   ],
   "source": [
    "CH = [[1, 1, 64], [1, 1], 'SAME']\n",
    "[[1, 1, 64], [1, 1], 'SAME', [3, 3, 128], [1, 1], 'SAME']\n",
    "[[3, 3, 128], [1, 1], 'SAME', [5, 5, 32], [1, 1], 'SAME']\n",
    "[[5, 5, 32], [1, 1], 'SAME', [1, 1, 32], [1, 1], 'SAME']"
   ]
  },
  {
   "cell_type": "code",
   "execution_count": 10,
   "metadata": {},
   "outputs": [],
   "source": [
    "i2 = [[[1,1,64],[1,1],'SAME'],[[1,1,96],[1,1],'SAME',[3,3,128],[1,1],'SAME'],[[1,1,16],[1,1],'SAME',[5,5,32],[1,1],'SAME'],[[3,3],[1,1],'SAME',[1,1,32],[1,1],'SAME']]"
   ]
  },
  {
   "cell_type": "code",
   "execution_count": 11,
   "metadata": {},
   "outputs": [
    {
     "data": {
      "text/plain": [
       "False"
      ]
     },
     "execution_count": 11,
     "metadata": {},
     "output_type": "execute_result"
    }
   ],
   "source": [
    "CH == i2"
   ]
  },
  {
   "cell_type": "code",
   "execution_count": 12,
   "metadata": {},
   "outputs": [
    {
     "data": {
      "text/plain": [
       "[[1, 1, 64], [1, 1], 'SAME']"
      ]
     },
     "execution_count": 12,
     "metadata": {},
     "output_type": "execute_result"
    }
   ],
   "source": [
    "CH"
   ]
  },
  {
   "cell_type": "code",
   "execution_count": 14,
   "metadata": {},
   "outputs": [],
   "source": [
    "L = [['CNN', 'CNN-CNN', 'CNN-CNN', 'POOL-CNN'],\n",
    "  [[1, 1, 64], [1, 1], 'SAME'],\n",
    "  [[1, 1, 64], [1, 1], 'SAME', [3, 3, 128], [1, 1], 'SAME'],\n",
    "  [[3, 3, 128], [1, 1], 'SAME', [5, 5, 32], [1, 1], 'SAME'],\n",
    "  [[5, 5, 32], [1, 1], 'SAME', [1, 1, 32], [1, 1], 'SAME']]"
   ]
  },
  {
   "cell_type": "code",
   "execution_count": 15,
   "metadata": {},
   "outputs": [],
   "source": [
    "K = [[[1, 1, 64], [1, 1], 'SAME'],\n",
    "  [[1, 1, 64], [1, 1], 'SAME', [3, 3, 128], [1, 1], 'SAME'],\n",
    "  [[3, 3, 128], [1, 1], 'SAME', [5, 5, 32], [1, 1], 'SAME'],\n",
    "  [[5, 5, 32], [1, 1], 'SAME', [1, 1, 32], [1, 1], 'SAME']]"
   ]
  },
  {
   "cell_type": "code",
   "execution_count": 17,
   "metadata": {},
   "outputs": [
    {
     "data": {
      "text/plain": [
       "False"
      ]
     },
     "execution_count": 17,
     "metadata": {},
     "output_type": "execute_result"
    }
   ],
   "source": [
    "K == i2"
   ]
  },
  {
   "cell_type": "code",
   "execution_count": 18,
   "metadata": {},
   "outputs": [
    {
     "data": {
      "text/plain": [
       "[[[1, 1, 64], [1, 1], 'SAME'],\n",
       " [[1, 1, 96], [1, 1], 'SAME', [3, 3, 128], [1, 1], 'SAME'],\n",
       " [[1, 1, 16], [1, 1], 'SAME', [5, 5, 32], [1, 1], 'SAME'],\n",
       " [[3, 3], [1, 1], 'SAME', [1, 1, 32], [1, 1], 'SAME']]"
      ]
     },
     "execution_count": 18,
     "metadata": {},
     "output_type": "execute_result"
    }
   ],
   "source": []
  },
  {
   "cell_type": "code",
   "execution_count": 20,
   "metadata": {},
   "outputs": [
    {
     "data": {
      "text/plain": [
       "[[[1, 1, 64], [1, 1], 'SAME'],\n",
       " [[1, 1, 64], [1, 1], 'SAME', [3, 3, 128], [1, 1], 'SAME'],\n",
       " [[3, 3, 128], [1, 1], 'SAME', [5, 5, 32], [1, 1], 'SAME'],\n",
       " [[5, 5, 32], [1, 1], 'SAME', [1, 1, 32], [1, 1], 'SAME']]"
      ]
     },
     "execution_count": 20,
     "metadata": {},
     "output_type": "execute_result"
    }
   ],
   "source": [
    "K"
   ]
  },
  {
   "cell_type": "code",
   "execution_count": 11,
   "metadata": {},
   "outputs": [],
   "source": [
    "i2 = [[[1,1,64],[1,1],'SAME'],[[1,1,96],[1,1],'SAME',[3,3,128],[1,1],'SAME'],[[1,1,16],[1,1],'SAME',[5,5,32],[1,1],'SAME'],[[3,3],[1,1],'SAME',[1,1,32],[1,1],'SAME']]\n"
   ]
  },
  {
   "cell_type": "code",
   "execution_count": null,
   "metadata": {},
   "outputs": [],
   "source": []
  }
 ],
 "metadata": {
  "kernelspec": {
   "display_name": "Python 3",
   "language": "python",
   "name": "python3"
  },
  "language_info": {
   "codemirror_mode": {
    "name": "ipython",
    "version": 3
   },
   "file_extension": ".py",
   "mimetype": "text/x-python",
   "name": "python",
   "nbconvert_exporter": "python",
   "pygments_lexer": "ipython3",
   "version": "3.7.1"
  }
 },
 "nbformat": 4,
 "nbformat_minor": 2
}
